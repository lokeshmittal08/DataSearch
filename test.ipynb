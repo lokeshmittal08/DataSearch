{
 "cells": [
  {
   "cell_type": "code",
   "execution_count": 29,
   "id": "0f293d7c",
   "metadata": {},
   "outputs": [],
   "source": [
    "from chromadb.api.client import SharedSystemClient\n",
    "SharedSystemClient.clear_system_cache()"
   ]
  },
  {
   "cell_type": "code",
   "execution_count": 16,
   "id": "db0f0894",
   "metadata": {},
   "outputs": [
    {
     "data": {
      "text/plain": [
       "[{'id': 'a4c70edb029246b799dafff6ea2bccdb',\n",
       "  'meta': {'filename': '/app/tests/data/resumes/37335325.pdf'},\n",
       "  'distance': 1.3483259677886963},\n",
       " {'id': 'f83a553528004c3faf211d0bbcf23455',\n",
       "  'meta': {'filename': '/app/tests/data/resumes/34131484.pdf'},\n",
       "  'distance': 1.7653526067733765},\n",
       " {'id': 'fdd988f877c84dec854193c4cbc0da15',\n",
       "  'meta': {'filename': 'try.pdf'},\n",
       "  'distance': 1.8148040771484375},\n",
       " {'id': '8815bbfeac1d46beaa22037da81ef0ec',\n",
       "  'meta': {'filename': '/app/tests/data/resumes/engineer.pdf'},\n",
       "  'distance': 1.832259178161621},\n",
       " {'id': '28aa63d27e0341fe9aa4e371fc7b91ed',\n",
       "  'meta': {'filename': '/app/tests/data/resumes/30311202.pdf'},\n",
       "  'distance': 1.88010573387146}]"
      ]
     },
     "execution_count": 16,
     "metadata": {},
     "output_type": "execute_result"
    }
   ],
   "source": [
    "import sys\n",
    "import importlib\n",
    "from libs import VectorStore\n",
    "importlib.reload(VectorStore)\n",
    "\n",
    "store = VectorStore.VectorStore()\n",
    "results = store.query(text=\"test\", result_count=5)\n",
    "results"
   ]
  },
  {
   "cell_type": "code",
   "execution_count": 7,
   "id": "c552931d",
   "metadata": {},
   "outputs": [
    {
     "data": {
      "text/plain": [
       "[{'name': 'chatgpt.com-Canada FSW Points System.pdf',\n",
       "  'path': '/app/tests/data/chatgpt.com-Canada FSW Points System.pdf',\n",
       "  'mimetype': 'application/pdf'},\n",
       " {'name': '30311202.pdf',\n",
       "  'path': '/app/tests/data/resumes/30311202.pdf',\n",
       "  'mimetype': 'application/pdf'},\n",
       " {'name': '34131484.pdf',\n",
       "  'path': '/app/tests/data/resumes/34131484.pdf',\n",
       "  'mimetype': 'application/pdf'},\n",
       " {'name': '37335325.pdf',\n",
       "  'path': '/app/tests/data/resumes/37335325.pdf',\n",
       "  'mimetype': 'application/pdf'},\n",
       " {'name': '70892619.pdf',\n",
       "  'path': '/app/tests/data/resumes/70892619.pdf',\n",
       "  'mimetype': 'application/pdf'},\n",
       " {'name': 'engineer.pdf',\n",
       "  'path': '/app/tests/data/resumes/engineer.pdf',\n",
       "  'mimetype': 'application/pdf'}]"
      ]
     },
     "execution_count": 7,
     "metadata": {},
     "output_type": "execute_result"
    }
   ],
   "source": [
    "from libs import util\n",
    "import importlib\n",
    "from libs import VectorStore\n",
    "importlib.reload(util)\n",
    "\n",
    "util.list_files(\"/app/tests/data\")"
   ]
  },
  {
   "cell_type": "code",
   "execution_count": 58,
   "id": "035bf0a8",
   "metadata": {},
   "outputs": [],
   "source": [
    "collection.add(\n",
    "    documents=[\"Shah Rukh Khan[a] (pronounced  ⓘ; born 2 November 1965), also known by the initialism SRK, is an Indian actor and film producer who works in Hindi cinema. Referred to in the media as the \\\"Baadshah of Bollywood\\\" and \\\"King Khan\\\",[b] he has appeared in more than 100 films, and earned numerous accolades, including 14 Filmfare Awards. He has been awarded the Padma Shri by the Government of India, as well as the Order of Arts and Letters and Legion of Honour by the Government of France. Khan has a significant following in Asia and the Indian diaspora worldwide. In terms of audience size and income, several media outlets have described him as one of the most successful film stars in the world.[c] Many of his films thematise Indian national identity and connections with diaspora communities, or gender, racial, social and religious differences and grievances.\", \n",
    "               \"The United States of America (USA), also known as the United States (U.S.) or America, is a country primarily located in North America. It is a federal republic of 50 states and a federal capital district, Washington, D.C. The 48 contiguous states border Canada to the north and Mexico to the south, with the semi-exclave of Alaska in the northwest and the archipelago of Hawaii in the Pacific Ocean. The United States asserts sovereignty over five major island territories and various uninhabited islands in Oceania and the Caribbean.[j] It is a megadiverse country, with the world's third-largest land area[c] and third-largest population, exceeding 340 million.[k] Its three largest metropolitan areas are New York, Los Angeles, and Chicago, and its three most populous states are California, Texas, and Florida.\"],\n",
    "    metadatas=[{\"source\": \"doc1\"}, {\"source\": \"doc2\"}],\n",
    "    ids=[\"id1\", \"id2\"]\n",
    ")\n"
   ]
  },
  {
   "cell_type": "code",
   "execution_count": 13,
   "id": "e94ea43a",
   "metadata": {},
   "outputs": [
    {
     "name": "stdout",
     "output_type": "stream",
     "text": [
      "## ENGINEERING MANAGER\n",
      "\n",
      "## Career Overview\n",
      "\n",
      "A practiced, professional Test Manager with over 20 years of success m anaging test and validation of next-generation software / hardware technologies across m ultiple concurrent projects and releases. Delivered effectively to tim e and budget on a variety of com plex, large-scale, m ultiplatform  projects including: com plex network fram ework, IoT (Internet of Things), telecom m unication and hosted services, business process tools, automation fram eworks. Managed, trained and m entored m ulti-disciplinary, geographically dispersed team s including, software developm ent, test and validation, planning, QA, configuration m anagem ent, agile scrum  m aster and product owner.\n",
      "\n",
      "## Qualifications\n",
      "\n",
      "- Product, system  and software testing across m ultiple OS platform s (Windows, Windows Store, Android, iOS, Arduino &amp; Linux) over full product life cycle, including Agile, V-model and Waterfall developm ent m ethods\n",
      "- Managing multiple on-going projects with geographically dispersed team s, establishing and using sub-contract resources with on and off-shore m odels\n",
      "- Developing clear test strategies, proven ability to translate functional, non-functional and use case requirem ents into test plan, scripts and autom ation with full traceability to requirements\n",
      "- Leading continuous im provem ent of developm ent, testing and organization processes\n",
      "- Proficient MS Office, Visual Studio, Eclipse and C\n",
      "\n",
      "## Work Experience\n",
      "\n",
      "Company Name September 2011 to Current Engineering Manager\n",
      "\n",
      "City , State\n",
      "\n",
      "- Managing and overseeing highly technical, m ultidisciplinary team  of 15+ testers and developers, which were responsible for developing device to device and IoT autom ation fram ework, developing 10 different SDKs test tools across 5 different OS platform s (Windows, Windows store, Android, iOS and Linux) and sim ultaneously testing and validating m ultiple independent software products for Intel WPRD Wireless Software Services (WSS).\n",
      "- Cultivate partnerships with globally cross com panies and team s in m anaging on-tim e, successful product (including open source) releases.\n",
      "- Establish and m anage fully functional outsourced validation operation in Bangalore, India, leading to significant cost reduction and enabled foll ow-the-sun testing to reduce the product developm ent cycle and freeing full tim e em ployees for higher-value work.\n",
      "- Collaborate with executive m anagem ent, product owner, sales and m arking to provide validation and test estim ated for feature or product release Form ulate and im plem ent software testing strategies for m ultiple concurrent projects Designed and supervised the developm ent of cross OS platform s peer-to-peer/device-to- device test autom ation fram ework Designed and supervised the developm ent of 10 different SDK test tools using C/C++, C#, Java, and Objective C Defined OIC/IoTivity com pliance and certification test cases for open source community Chair bug weekly bug scrub review and prioritization Instrum ental in reducing traditional project integration phases from  a two weeks to one day by im plem enting continues integration (CI) autom ated build and test system s that enabled 100% build acceptance test automation.\n",
      "- Instrum ental in setting up Gerrit web based code review, as results the code quality has significantly im proved and reduced regression test cycle by 50% Tool administration Rally, Clear quest, Jira and others Volunteered to be the scrum  m aster for m ultiple scrum  team s in additional to fulfil l i n g  m y  job responsi bi l i ti es Man ag ed and put process i n pl ace to ensure the of f  shore devel opm ent center becom e seam l ess extension of our developm ent team .\n",
      "- Delivered increm ental autom ated feature level testing on m ultiple projects across different OS platform s for wired and wireless technologies.\n",
      "\n",
      "Company Name July 2009 to September 2011 Director of Quality Assurance\n",
      "\n",
      "City , State\n",
      "\n",
      "- Responsible for testing Qwarq transport agnostic wireless connectivity fram ework, the goal was to create new user experience leveraging multiple wireless technologies to m ake device-to-device connection easy.\n",
      "- Developing clear test strategies, proven ability to translate functional, non-functional and use case requirem ents into test plan, scripts and automation with full traceability to requirem ents Establish the quality assurance departm ent for the com pany Managed, hired and trained test engineers Planning all resources and schedule test activities within and cross com panies Worked closely with developm ent, and support to i m pl em ent and prom ote quality policies and processes throughout the com pany Worked closely with m ultiple PC OEMs sim ultaneously to understand their quality criteria and ensure the product quality m eet or exceed their quality requirem ents.\n",
      "- Procure Hardware and software for test and developm ent Instrum ental in conducted usability tests.\n",
      "\n",
      "Company Name November 2006 to July 2009 Director of Quality Assurance City , State\n",
      "\n",
      "- Establish the quality assurance departm ent for the com pany\n",
      "- Planed all resources and schedule test activities while working closely with clients\n",
      "- â€¢Scrum master for multiple concurrent scrum  team s. Facilitate and organize all scrum  cerem onies including the daily stand-up, retrospectives, demos, release planning and backlog groom ing m eetings. Support the scrum team member to mitigate im pedim ents, resolve conflict.\n",
      "- Tool administration and usage including, Jira, Rally, Clear Quest, Quality Center, ProtexIP, Sub-version, GIT, RTC, Bugzilla, Quality Center, Jenkins, Gerrit and others\n",
      "- Experience in testing software as a service (SaaS) applications\n",
      "- Design performance and stress testing of peer-to-peer / device-to-device network application and cloud XMPP server\n",
      "- Worked closely with developm ent, support, m arketing and sales directors to im plem ent and prom ote quality policies and system s throughout the com pany\n",
      "- Tested Ultra wide band (Wireless USB) PHY, MAC, drivers and applications for both windows and em bedded platform s\n",
      "- Tested Bluetopia Bluetooth stack and profiles on different PC and em bedded OS platform s\n",
      "- Testing WIFI (802.11a/b/g/N) application including standard, Intel and cisco security supplem ents\n",
      "- Microsoft WHQL drivers certification for Stonestreet One Ultra wide band, and Bluetooth drivers\n",
      "\n",
      "## Company Name May 2004 to November 2006 Quality Assurance Manager\n",
      "\n",
      "City , State\n",
      "\n",
      "- Manage, mentored and train test engineers who were responsible for testing (SaaS) tim e and attendance Product\n",
      "- Developed and worked with development team to im plem ent quality process and procedures for the com pany to im prove code quality and stabili ty, as resul ts reduce i nternal  and custom er reported defects by over 50%\n",
      "- Manage defect tracking system\n",
      "- Manage test case development and execution following Ceridian CUSP process\n",
      "- Perform defect postm ortem  on all field reported defects and im plem ent the necessary change to prevent future incidents\n",
      "- Manage testing lab.\n",
      "\n",
      "## Company Name August 2001 to February 2003 lead test Engineer\n",
      "\n",
      "City , State\n",
      "\n",
      "- Create manual and autom ated test cases, setting up and m aintaining test environm ent for the departm ent, execute functional, regression, stress, and load testing.\n",
      "\n",
      "## Company Name July 1995 to December 1999 Lead Test Engineer\n",
      "\n",
      "City , State\n",
      "\n",
      "- Lead group of quality assurance engineers testing and validating ITU H26X standard based video codecs nam ely H263 Plus, H263, I263, H261, Indeo 5.x, Automatic Echo Cancellation (AEC) audio codec for Intel videophone.\n",
      "- Scheduling regular bug scrubs sessions with the developm ent team .\n",
      "- During the bug scrubs assigning owners to the new defects, priorities defects to be included in future phase of developm ent.\n",
      "- Scheduling code inspection and design review to find the bug in early stage of software developm ent cycle.\n",
      "\n",
      "## Company Name Owner / President\n",
      "\n",
      "City , State\n",
      "\n",
      "- Installed the requested software and tested the com patibility of the new m ultim edia software and hardware Test and debug m ultim edia products, such as sound cards, video recorders, video capture cards, CD-ROMs and others Developed functional tests for stress, volum e and continuity testing of software and hardware Configured system  with various peripheral (scanners, printers, video digitizers) Reproducing bugs the were found during the test and com pile all results Write reports and results that were found during the tests.\n",
      "\n",
      "## Education and Training\n",
      "\n",
      "Webster University 2004 Master of Science : Com puter Resource Inform ation Managem ent City , State\n",
      "\n",
      "Kabul University 1992 Bachelor of Science : Com puter Science\n",
      "\n",
      "Skills audio, autom ation, C, C++, CD-ROMs, Ceridian, cisco, Hardware, cost reduction, clients, drivers, executive m anagem ent, Functional, inspection, Intel, Java, Linux, MAC, Managing, m arketing and sales, C#, Windows, Windows XP, m ultim edia, Objective C, OS, policies, printers, processes, product developm ent, quality, quality assurance, quest, sales, scanners, Scheduling, scrum , scripts, software developm ent, software testi ng, sound cards, sun, test tools, USB, validation, video, Vista\n"
     ]
    }
   ],
   "source": [
    "from app.pdf_utils import extract_text_from_pdf\n",
    "from libs.TextCleaner import TextCleaner\n",
    "\n",
    "\n",
    "text = extract_text_from_pdf(\"/app/tests/data/resumes/37335325.pdf\")\n",
    "# print(text)\n",
    "cleaner = TextCleaner()\n",
    "# text = cleaner.clean(text)\n",
    "print(text)"
   ]
  },
  {
   "cell_type": "code",
   "execution_count": 4,
   "id": "8ea8307b",
   "metadata": {},
   "outputs": [
    {
     "data": {
      "text/plain": [
       "[{'id': 'cfd383526e974029aebc02fd7de0bd21',\n",
       "  'meta': {'_hash': 'a7a7d9d9e1172df1ffd8b4ec4ad3231af603c75e7808dfdf3ddc75eff0422ea4',\n",
       "   'filename': '70892619.pdf'},\n",
       "  'distance': 0.43710488080978394,\n",
       "  'doc': 'teacher assistant work history company name professional sum ary currently working towards educationcareer goals obtaining ba psychology order dem onstrate passion working elementary youth classroom setting goal diversify educational experience becom e ore proficient educatoradm inistrator currently working towards educationcareer goals obtaining ba psychology order dem onstrate passion working elementary youth classroom setting goal diversify educational experience becom e ore proficient educatorbehavioural specialist currently working towards educationcareer goals obtaining ba psychology order dem onstrate passion working elementary youth classroom setting goal diversify educational experience becom e ore proficient educatorbehavioural specialist accomplishments improved reading lexiles student turn helped student undergo reclassification'},\n",
       " {'id': '8719c1371a61409aa1f9892ac6d12409',\n",
       "  'meta': {'_hash': '1e35b8a61c87967fb1fe7d8e655b7e2b677323ec7cfd34fdbd5b7ad1ec7d6ac4',\n",
       "   'filename': '37335325.pdf'},\n",
       "  'distance': 0.6777061223983765,\n",
       "  'doc': 'engineering manager career overview practiced professional test manager 20 years success anaging test validation nextgeneration software hardware technologies across ultiple concurrent projects releases delivered effectively tim e budget variety com plex largescale ultiplatform projects including com plex network fram ework iot internet things telecom unication hosted services business process tools automation fram eworks managed trained entored ultidisciplinary geographically dispersed team including software developm ent test validation planning qa configuration anagem ent agile scrum aster product owner qualifications product system software testing across ultiple os platform windows windows store android ios arduino amp linux full product life cycle including agile vmodel'}]"
      ]
     },
     "execution_count": 4,
     "metadata": {},
     "output_type": "execute_result"
    }
   ],
   "source": [
    "from libs.Api import Api\n",
    "api = Api()\n",
    "api.query(question=\"experience in teaching \"+ \" such as roles, positions, jobs held in education or teaching\", top_k=5)"
   ]
  },
  {
   "cell_type": "code",
   "execution_count": 2,
   "id": "9512e892",
   "metadata": {},
   "outputs": [
    {
     "name": "stdout",
     "output_type": "stream",
     "text": [
      "Downloading https://github.com/ultralytics/assets/releases/download/v8.3.0/yolo11n.pt to 'yolo11n.pt'...\n"
     ]
    },
    {
     "name": "stderr",
     "output_type": "stream",
     "text": [
      "100%|██████████| 5.35M/5.35M [00:00<00:00, 11.8MB/s]\n"
     ]
    },
    {
     "name": "stdout",
     "output_type": "stream",
     "text": [
      "\n",
      "0: 640x640 1 bowl, 2 chairs, 1 dining table, 2 vases, 158.6ms\n",
      "Speed: 9.8ms preprocess, 158.6ms inference, 18.6ms postprocess per image at shape (1, 3, 640, 640)\n"
     ]
    },
    {
     "data": {
      "text/plain": [
       "'Its an image type file. Image was taken at location near to Abu Dhabi, United Arab Emirates. Image was taken at noon on Friday May 2025. Some of visible objects in the image are vase, bowl, dining table, chair. Most dominant color in image is gray. Some other visible colors in image are black, maroon, olive'"
      ]
     },
     "execution_count": 2,
     "metadata": {},
     "output_type": "execute_result"
    }
   ],
   "source": [
    "from libs.ImageParser import ImageParser\n",
    "\n",
    "image_parser = ImageParser()\n",
    "image_parser.parse(\"/app/tests/data/images/location-image.jpg\")"
   ]
  }
 ],
 "metadata": {
  "kernelspec": {
   "display_name": "Python 3",
   "language": "python",
   "name": "python3"
  },
  "language_info": {
   "codemirror_mode": {
    "name": "ipython",
    "version": 3
   },
   "file_extension": ".py",
   "mimetype": "text/x-python",
   "name": "python",
   "nbconvert_exporter": "python",
   "pygments_lexer": "ipython3",
   "version": "3.11.13"
  }
 },
 "nbformat": 4,
 "nbformat_minor": 5
}
